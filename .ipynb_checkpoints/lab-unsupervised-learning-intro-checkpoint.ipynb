{
 "cells": [
  {
   "cell_type": "code",
   "execution_count": 1,
   "id": "d347cfb9",
   "metadata": {},
   "outputs": [],
   "source": [
    "import pandas as pd"
   ]
  },
  {
   "cell_type": "code",
   "execution_count": 2,
   "id": "40aaecb6",
   "metadata": {},
   "outputs": [],
   "source": [
    "song_id_extraction = pd.read_csv('song_id_extraction.csv')"
   ]
  },
  {
   "cell_type": "code",
   "execution_count": 3,
   "id": "c5c1ae0a",
   "metadata": {},
   "outputs": [
    {
     "data": {
      "text/html": [
       "<div>\n",
       "<style scoped>\n",
       "    .dataframe tbody tr th:only-of-type {\n",
       "        vertical-align: middle;\n",
       "    }\n",
       "\n",
       "    .dataframe tbody tr th {\n",
       "        vertical-align: top;\n",
       "    }\n",
       "\n",
       "    .dataframe thead th {\n",
       "        text-align: right;\n",
       "    }\n",
       "</style>\n",
       "<table border=\"1\" class=\"dataframe\">\n",
       "  <thead>\n",
       "    <tr style=\"text-align: right;\">\n",
       "      <th></th>\n",
       "      <th>song_id</th>\n",
       "    </tr>\n",
       "  </thead>\n",
       "  <tbody>\n",
       "    <tr>\n",
       "      <th>0</th>\n",
       "      <td>001McWPVLHQbQzDVq2Ndiq</td>\n",
       "    </tr>\n",
       "    <tr>\n",
       "      <th>1</th>\n",
       "      <td>003vvx7Niy0yvhvHt4a68B</td>\n",
       "    </tr>\n",
       "    <tr>\n",
       "      <th>2</th>\n",
       "      <td>0071kWo4vzvKWe6dsxKeWj</td>\n",
       "    </tr>\n",
       "    <tr>\n",
       "      <th>3</th>\n",
       "      <td>00B7SBwrjbycLMOgAmeIU8</td>\n",
       "    </tr>\n",
       "    <tr>\n",
       "      <th>4</th>\n",
       "      <td>00CqEmnPLFKDhAb3cuu6Cs</td>\n",
       "    </tr>\n",
       "    <tr>\n",
       "      <th>...</th>\n",
       "      <td>...</td>\n",
       "    </tr>\n",
       "    <tr>\n",
       "      <th>20143</th>\n",
       "      <td>7zvYcp4GcbqkXWCL03pkO8</td>\n",
       "    </tr>\n",
       "    <tr>\n",
       "      <th>20144</th>\n",
       "      <td>7zwwvrJAWGjfc9wFD3bVzZ</td>\n",
       "    </tr>\n",
       "    <tr>\n",
       "      <th>20145</th>\n",
       "      <td>7zxUQuM8AKfuXLatnmWuWm</td>\n",
       "    </tr>\n",
       "    <tr>\n",
       "      <th>20146</th>\n",
       "      <td>7zxa7uJdNakO0braiv8jdx</td>\n",
       "    </tr>\n",
       "    <tr>\n",
       "      <th>20147</th>\n",
       "      <td>7zz378zL0WIiHYbSLeZ2U9</td>\n",
       "    </tr>\n",
       "  </tbody>\n",
       "</table>\n",
       "<p>20148 rows × 1 columns</p>\n",
       "</div>"
      ],
      "text/plain": [
       "                      song_id\n",
       "0      001McWPVLHQbQzDVq2Ndiq\n",
       "1      003vvx7Niy0yvhvHt4a68B\n",
       "2      0071kWo4vzvKWe6dsxKeWj\n",
       "3      00B7SBwrjbycLMOgAmeIU8\n",
       "4      00CqEmnPLFKDhAb3cuu6Cs\n",
       "...                       ...\n",
       "20143  7zvYcp4GcbqkXWCL03pkO8\n",
       "20144  7zwwvrJAWGjfc9wFD3bVzZ\n",
       "20145  7zxUQuM8AKfuXLatnmWuWm\n",
       "20146  7zxa7uJdNakO0braiv8jdx\n",
       "20147  7zz378zL0WIiHYbSLeZ2U9\n",
       "\n",
       "[20148 rows x 1 columns]"
      ]
     },
     "execution_count": 3,
     "metadata": {},
     "output_type": "execute_result"
    }
   ],
   "source": [
    "song_id_extraction"
   ]
  },
  {
   "cell_type": "code",
   "execution_count": 15,
   "id": "c001216b",
   "metadata": {},
   "outputs": [
    {
     "data": {
      "text/plain": [
       "{'danceability': 0.154,\n",
       " 'energy': 0.735,\n",
       " 'key': 0,\n",
       " 'loudness': -12.889,\n",
       " 'mode': 1,\n",
       " 'speechiness': 0.0573,\n",
       " 'acousticness': 0.441,\n",
       " 'instrumentalness': 0.0702,\n",
       " 'liveness': 0.645,\n",
       " 'valence': 0.398,\n",
       " 'tempo': 133.746,\n",
       " 'type': 'audio_features',\n",
       " 'id': '001McWPVLHQbQzDVq2Ndiq',\n",
       " 'uri': 'spotify:track:001McWPVLHQbQzDVq2Ndiq',\n",
       " 'track_href': 'https://api.spotify.com/v1/tracks/001McWPVLHQbQzDVq2Ndiq',\n",
       " 'analysis_url': 'https://api.spotify.com/v1/audio-analysis/001McWPVLHQbQzDVq2Ndiq',\n",
       " 'duration_ms': 79672,\n",
       " 'time_signature': 4}"
      ]
     },
     "execution_count": 15,
     "metadata": {},
     "output_type": "execute_result"
    }
   ],
   "source": [
    "import spotipy\n",
    "from spotipy.oauth2 import SpotifyClientCredentials\n",
    "\n",
    "client_id = 'e2248c9221ee47cebb3c2e0f050901b0'\n",
    "client_secret = \"c561ecf381eb457597658fa057eb1cbf\"\n",
    "\n",
    "client_credentials_manager = SpotifyClientCredentials(client_id=client_id, client_secret=client_secret)\n",
    "sp = spotipy.Spotify(client_credentials_manager=client_credentials_manager)\n",
    "\n",
    "song_ids = ['001McWPVLHQbQzDVq2Ndiq','7zz378zL0WIiHYbSLeZ2U9']\n",
    "\n",
    "sp.audio_features(song_ids[0])[0]"
   ]
  },
  {
   "cell_type": "code",
   "execution_count": 5,
   "id": "c196d691",
   "metadata": {},
   "outputs": [],
   "source": [
    "song_id_list = list(song_id_extraction['song_id'])"
   ]
  },
  {
   "cell_type": "code",
   "execution_count": 16,
   "id": "bd8ca339",
   "metadata": {},
   "outputs": [
    {
     "data": {
      "text/plain": [
       "'001McWPVLHQbQzDVq2Ndiq'"
      ]
     },
     "execution_count": 16,
     "metadata": {},
     "output_type": "execute_result"
    }
   ],
   "source": [
    "(song_id_list[0])"
   ]
  },
  {
   "cell_type": "code",
   "execution_count": null,
   "id": "6cb4e937",
   "metadata": {},
   "outputs": [],
   "source": []
  }
 ],
 "metadata": {
  "kernelspec": {
   "display_name": "Python 3 (ipykernel)",
   "language": "python",
   "name": "python3"
  },
  "language_info": {
   "codemirror_mode": {
    "name": "ipython",
    "version": 3
   },
   "file_extension": ".py",
   "mimetype": "text/x-python",
   "name": "python",
   "nbconvert_exporter": "python",
   "pygments_lexer": "ipython3",
   "version": "3.9.13"
  }
 },
 "nbformat": 4,
 "nbformat_minor": 5
}
