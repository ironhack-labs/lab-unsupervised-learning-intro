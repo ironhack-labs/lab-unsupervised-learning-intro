{
 "cells": [
  {
   "cell_type": "markdown",
   "metadata": {},
   "source": [
    "# Lab | API wrappers - Create your collection of songs & audio features\n",
    "\n",
    "\n",
    "#### Instructions \n",
    "\n",
    "\n",
    "To move forward with the project, you need to create a collection of songs with their audio features - as large as possible! \n",
    "\n",
    "These are the songs that we will cluster. And, later, when the user inputs a song, we will find the cluster to which the song belongs and recommend a song from the same cluster.\n",
    "The more songs you have, the more accurate and diverse recommendations you'll be able to give. Although... you might want to make sure the collected songs are \"curated\" in a certain way. Try to find playlists of songs that are diverse, but also that meet certain standards.\n",
    "\n",
    "The process of sending hundreds or thousands of requests can take some time - it's normal if you have to wait a few minutes (or, if you're ambitious, even hours) to get all the data you need.\n",
    "\n",
    "An idea for collecting as many songs as possible is to start with all the songs of a big, diverse playlist and then go to every artist present in the playlist and grab every song of every album of that artist. The amount of songs you'll be collecting per playlist will grow exponentially!"
   ]
  },
  {
   "cell_type": "code",
   "execution_count": 2,
   "metadata": {},
   "outputs": [],
   "source": [
    "import spotipy\n",
    "from spotipy.oauth2 import SpotifyClientCredentials\n",
    "import getpass\n",
    "import pandas as pd"
   ]
  },
  {
   "cell_type": "code",
   "execution_count": 3,
   "metadata": {},
   "outputs": [],
   "source": [
    "client_id = \"31bb38d4d2c54b0e9b994db2a71040d5\"\n",
    "client_secret = getpass.getpass('Write client secret:')"
   ]
  },
  {
   "cell_type": "code",
   "execution_count": 4,
   "metadata": {},
   "outputs": [],
   "source": [
    "sp = spotipy.Spotify(auth_manager=SpotifyClientCredentials(client_id=client_id,\n",
    "                                                           client_secret=client_secret))"
   ]
  },
  {
   "cell_type": "code",
   "execution_count": 5,
   "metadata": {},
   "outputs": [],
   "source": [
    "country_codes= ['AD', 'AR', 'AU', 'AT', 'BE', 'BO', 'BR', 'BG', 'CA', 'CL', \\\n",
    "    'CO', 'CR', 'CY', 'CZ', 'DK', 'DO', 'EC', 'SV', 'EE', 'FI', 'FR', 'DE', \\\n",
    "    'GR', 'GT', 'HN', 'HK', 'HU', 'IS', 'ID', 'IE', 'IT', 'JP', 'LV', 'LI', \\\n",
    "    'LT', 'LU', 'MY', 'MT', 'MX', 'MC', 'NL', 'NZ', 'NI', 'NO', 'PA', 'PY', \\\n",
    "    'PE', 'PH', 'PL', 'PT', 'SG', 'ES', 'SK', 'SE', 'CH', 'TW', 'TR', 'GB', \\\n",
    "    'US', 'UY']"
   ]
  },
  {
   "cell_type": "code",
   "execution_count": 6,
   "metadata": {},
   "outputs": [],
   "source": [
    "# Save all Spotify featured playlists worldwide\n",
    "playlists = pd.DataFrame(columns=[\"playlist\", \"playlist_id\"])\n",
    "\n",
    "for country in country_codes:\n",
    "    featured = sp.featured_playlists(country=country, limit=50)\n",
    "    for playlist in featured['playlists']['items']:\n",
    "        playlist_name = playlist[\"name\"]\n",
    "        playlist_id = playlist[\"id\"]\n",
    "        playlists = playlists.append({\"playlist\": playlist_name, \\\n",
    "            \"playlist_id\": playlist_id}, ignore_index=True)\n",
    "\n",
    "playlists.drop_duplicates(inplace=True)"
   ]
  },
  {
   "cell_type": "code",
   "execution_count": 7,
   "metadata": {},
   "outputs": [],
   "source": [
    "# Save all the songs from the playlists extracted earlier\n",
    "song_database = pd.DataFrame(columns=[\"song_id\", \"song_name\", \"artist_name\"])\n",
    "\n",
    "for playlist_id in playlists.playlist_id:\n",
    "    offset = 0\n",
    "    songs_dict = sp.playlist_items(playlist_id, offset=offset, limit=100)\n",
    "\n",
    "    # Loop through the playlist items one by one until the second to last song\n",
    "    while songs_dict[\"next\"] != None:\n",
    "        song_name = songs_dict[\"items\"][0][\"track\"][\"name\"]\n",
    "        song_id = songs_dict[\"items\"][0][\"track\"][\"id\"]\n",
    "        song_artists = songs_dict[\"items\"][0][\"track\"][\"artists\"][0][\"name\"]\n",
    "        artists = songs_dict[\"items\"][0][\"track\"][\"artists\"]\n",
    "\n",
    "        # If there are more artists, add them to the string\n",
    "        if len(artists) > 1:\n",
    "            for artist in artists[1:]:\n",
    "                song_artists += \" and \"\n",
    "                song_artists += artist[\"name\"]\n",
    "\n",
    "        song_database = song_database.append({\"song_name\": song_name, \\\n",
    "        \"song_id\": song_id, \"artist_name\": song_artists}, ignore_index=True)\n",
    "        offset += 1\n",
    "        songs_dict = sp.playlist_items(playlist_id, offset=offset, limit=100)\n",
    "\n",
    "# Remove songs present in multiple playlists\n",
    "song_database.drop_duplicates(inplace=True)"
   ]
  },
  {
   "cell_type": "code",
   "execution_count": 8,
   "metadata": {},
   "outputs": [
    {
     "data": {
      "text/html": [
       "<div>\n",
       "<style scoped>\n",
       "    .dataframe tbody tr th:only-of-type {\n",
       "        vertical-align: middle;\n",
       "    }\n",
       "\n",
       "    .dataframe tbody tr th {\n",
       "        vertical-align: top;\n",
       "    }\n",
       "\n",
       "    .dataframe thead th {\n",
       "        text-align: right;\n",
       "    }\n",
       "</style>\n",
       "<table border=\"1\" class=\"dataframe\">\n",
       "  <thead>\n",
       "    <tr style=\"text-align: right;\">\n",
       "      <th></th>\n",
       "      <th>song_id</th>\n",
       "      <th>song_name</th>\n",
       "      <th>artist_name</th>\n",
       "    </tr>\n",
       "  </thead>\n",
       "  <tbody>\n",
       "    <tr>\n",
       "      <th>0</th>\n",
       "      <td>4kbj5MwxO1bq9wjT5g9HaA</td>\n",
       "      <td>Shut Up and Dance</td>\n",
       "      <td>WALK THE MOON</td>\n",
       "    </tr>\n",
       "    <tr>\n",
       "      <th>1</th>\n",
       "      <td>0B9x2BRHqj3Qer7biM3pU3</td>\n",
       "      <td>You're The One That I Want - From “Grease”</td>\n",
       "      <td>John Travolta and Olivia Newton-John</td>\n",
       "    </tr>\n",
       "    <tr>\n",
       "      <th>2</th>\n",
       "      <td>68y6OIiE1nDdI1MLQdJNh8</td>\n",
       "      <td>I Want It That Way</td>\n",
       "      <td>Backstreet Boys</td>\n",
       "    </tr>\n",
       "    <tr>\n",
       "      <th>3</th>\n",
       "      <td>5Q0Nhxo0l2bP3pNjpGJwV1</td>\n",
       "      <td>Party In The U.S.A.</td>\n",
       "      <td>Miley Cyrus</td>\n",
       "    </tr>\n",
       "    <tr>\n",
       "      <th>4</th>\n",
       "      <td>4cluDES4hQEUhmXj6TXkSo</td>\n",
       "      <td>What Makes You Beautiful</td>\n",
       "      <td>One Direction</td>\n",
       "    </tr>\n",
       "  </tbody>\n",
       "</table>\n",
       "</div>"
      ],
      "text/plain": [
       "                  song_id                                   song_name  \\\n",
       "0  4kbj5MwxO1bq9wjT5g9HaA                           Shut Up and Dance   \n",
       "1  0B9x2BRHqj3Qer7biM3pU3  You're The One That I Want - From “Grease”   \n",
       "2  68y6OIiE1nDdI1MLQdJNh8                          I Want It That Way   \n",
       "3  5Q0Nhxo0l2bP3pNjpGJwV1                         Party In The U.S.A.   \n",
       "4  4cluDES4hQEUhmXj6TXkSo                    What Makes You Beautiful   \n",
       "\n",
       "                            artist_name  \n",
       "0                         WALK THE MOON  \n",
       "1  John Travolta and Olivia Newton-John  \n",
       "2                       Backstreet Boys  \n",
       "3                           Miley Cyrus  \n",
       "4                         One Direction  "
      ]
     },
     "execution_count": 8,
     "metadata": {},
     "output_type": "execute_result"
    }
   ],
   "source": [
    "song_database.head()"
   ]
  },
  {
   "cell_type": "code",
   "execution_count": 9,
   "metadata": {},
   "outputs": [
    {
     "data": {
      "text/plain": [
       "3935"
      ]
     },
     "execution_count": 9,
     "metadata": {},
     "output_type": "execute_result"
    }
   ],
   "source": [
    "song_database.shape[0] # We extracted 3935 unique songs"
   ]
  },
  {
   "cell_type": "code",
   "execution_count": 12,
   "metadata": {},
   "outputs": [],
   "source": [
    "# Save song database to csv for the clustering\n",
    "song_database.to_csv(\"song_database.csv\", index=False)"
   ]
  }
 ],
 "metadata": {
  "interpreter": {
   "hash": "916dbcbb3f70747c44a77c7bcd40155683ae19c65e1c03b4aa3499c5328201f1"
  },
  "kernelspec": {
   "display_name": "Python 3.8.10 64-bit",
   "language": "python",
   "name": "python3"
  },
  "language_info": {
   "codemirror_mode": {
    "name": "ipython",
    "version": 3
   },
   "file_extension": ".py",
   "mimetype": "text/x-python",
   "name": "python",
   "nbconvert_exporter": "python",
   "pygments_lexer": "ipython3",
   "version": "3.8.10"
  },
  "orig_nbformat": 4
 },
 "nbformat": 4,
 "nbformat_minor": 2
}
