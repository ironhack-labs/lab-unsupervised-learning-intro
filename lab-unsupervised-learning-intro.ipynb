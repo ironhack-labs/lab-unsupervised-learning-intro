{
 "cells": [
  {
   "cell_type": "markdown",
   "metadata": {},
   "source": [
    "# Lab | Unsupervised learning intro\n",
    "\n",
    "#### Instructions \n",
    "\n",
    "\n",
    "It's the moment to perform clustering on the songs you collected. Remember that the ultimate goal of this little project is to improve the recommendations of artists. Clustering the songs will allow the recommendation system to limit the scope of the recommendations to only songs that belong to the same cluster - songs with similar audio features.\n",
    "\n",
    "The experiments you did with the `Spotify` API and the Billboard web scraping will allow you to create a pipeline such that when the user enters a song, you:\n",
    "\n",
    "1. Check whether or not the song is in the Billboard Hot 200.\n",
    "2. Collect the audio features from the `Spotify` API.\n",
    "\n",
    "After that, you want to send the `Spotify` audio features of the submitted song to the clustering model, which should return a cluster number."
   ]
  },
  {
   "cell_type": "markdown",
   "metadata": {},
   "source": [
    "##### 0. Train a clustering model on the song database"
   ]
  },
  {
   "cell_type": "code",
   "execution_count": 4,
   "metadata": {},
   "outputs": [],
   "source": [
    "# Import relevant libraries\n",
    "import numpy as np \n",
    "import pandas as pd\n",
    "import os\n",
    "import spotipy\n",
    "from spotipy.oauth2 import SpotifyClientCredentials\n",
    "import getpass\n",
    "from sklearn.cluster import KMeans\n",
    "import random\n",
    "from sklearn.metrics import pairwise_distances_argmin_min\n"
   ]
  },
  {
   "cell_type": "code",
   "execution_count": 2,
   "metadata": {},
   "outputs": [],
   "source": [
    "# Create connection to Spotify API\n",
    "client_id = \"31bb38d4d2c54b0e9b994db2a71040d5\"\n",
    "client_secret = \"86dc73ebcd4848b4a6c0ee54227fd223\"\n",
    "\n",
    "sp = spotipy.Spotify(auth_manager=SpotifyClientCredentials(client_id=client_id,\n",
    "                                                           client_secret=client_secret))"
   ]
  },
  {
   "cell_type": "code",
   "execution_count": 3,
   "metadata": {},
   "outputs": [],
   "source": [
    "# Import the song database\n",
    "song_database = pd.read_csv(\"song_database.csv\", index_col=\"song_id\")"
   ]
  },
  {
   "cell_type": "code",
   "execution_count": 4,
   "metadata": {},
   "outputs": [],
   "source": [
    "# Save audio features for the songs in a dataframe\n",
    "audio_database = pd.DataFrame(columns=['danceability', 'energy', 'key', \\\n",
    "    'loudness', 'mode', 'speechiness', 'acousticness', 'instrumentalness', \\\n",
    "    'liveness', 'valence', 'tempo', 'type', 'id', 'uri', 'track_href', \\\n",
    "    'analysis_url', 'duration_ms', 'time_signature'])\n",
    "\n",
    "for song_id in song_database.index:\n",
    "    audio_features = sp.audio_features(tracks=song_id)[0]\n",
    "    audio_database = audio_database.append(audio_features, ignore_index=True)\n",
    "\n",
    "# Set the database index to the song id\n",
    "audio_database.set_index(\"id\", drop=True, inplace=True)"
   ]
  },
  {
   "cell_type": "markdown",
   "metadata": {},
   "source": [
    "Save the database for future use:"
   ]
  },
  {
   "cell_type": "code",
   "execution_count": 7,
   "metadata": {},
   "outputs": [],
   "source": [
    "audio_database.to_csv(\"audio_database.csv\")"
   ]
  },
  {
   "cell_type": "code",
   "execution_count": 14,
   "metadata": {},
   "outputs": [
    {
     "data": {
      "text/plain": [
       "array(['audio_features'], dtype=object)"
      ]
     },
     "execution_count": 14,
     "metadata": {},
     "output_type": "execute_result"
    }
   ],
   "source": [
    "audio_database.type.unique()"
   ]
  },
  {
   "cell_type": "code",
   "execution_count": 15,
   "metadata": {},
   "outputs": [],
   "source": [
    "# Remove the columns unnecessary for the training\n",
    "to_drop = [\"uri\", \"track_href\", \"analysis_url\", \"type\"]\n",
    "audio_database.drop(to_drop, inplace=True, axis=1)"
   ]
  },
  {
   "cell_type": "code",
   "execution_count": 16,
   "metadata": {},
   "outputs": [
    {
     "data": {
      "text/html": [
       "<div>\n",
       "<style scoped>\n",
       "    .dataframe tbody tr th:only-of-type {\n",
       "        vertical-align: middle;\n",
       "    }\n",
       "\n",
       "    .dataframe tbody tr th {\n",
       "        vertical-align: top;\n",
       "    }\n",
       "\n",
       "    .dataframe thead th {\n",
       "        text-align: right;\n",
       "    }\n",
       "</style>\n",
       "<table border=\"1\" class=\"dataframe\">\n",
       "  <thead>\n",
       "    <tr style=\"text-align: right;\">\n",
       "      <th></th>\n",
       "      <th>count</th>\n",
       "      <th>mean</th>\n",
       "      <th>std</th>\n",
       "      <th>min</th>\n",
       "      <th>25%</th>\n",
       "      <th>50%</th>\n",
       "      <th>75%</th>\n",
       "      <th>max</th>\n",
       "    </tr>\n",
       "  </thead>\n",
       "  <tbody>\n",
       "    <tr>\n",
       "      <th>danceability</th>\n",
       "      <td>3935.0</td>\n",
       "      <td>0.55</td>\n",
       "      <td>0.19</td>\n",
       "      <td>0.00</td>\n",
       "      <td>0.42</td>\n",
       "      <td>0.59</td>\n",
       "      <td>0.70</td>\n",
       "      <td>0.98</td>\n",
       "    </tr>\n",
       "    <tr>\n",
       "      <th>energy</th>\n",
       "      <td>3935.0</td>\n",
       "      <td>0.33</td>\n",
       "      <td>0.25</td>\n",
       "      <td>0.00</td>\n",
       "      <td>0.10</td>\n",
       "      <td>0.30</td>\n",
       "      <td>0.48</td>\n",
       "      <td>1.00</td>\n",
       "    </tr>\n",
       "    <tr>\n",
       "      <th>loudness</th>\n",
       "      <td>3935.0</td>\n",
       "      <td>-15.53</td>\n",
       "      <td>8.45</td>\n",
       "      <td>-43.30</td>\n",
       "      <td>-21.80</td>\n",
       "      <td>-12.93</td>\n",
       "      <td>-9.12</td>\n",
       "      <td>-1.01</td>\n",
       "    </tr>\n",
       "    <tr>\n",
       "      <th>speechiness</th>\n",
       "      <td>3935.0</td>\n",
       "      <td>0.07</td>\n",
       "      <td>0.07</td>\n",
       "      <td>0.00</td>\n",
       "      <td>0.04</td>\n",
       "      <td>0.04</td>\n",
       "      <td>0.07</td>\n",
       "      <td>0.95</td>\n",
       "    </tr>\n",
       "    <tr>\n",
       "      <th>acousticness</th>\n",
       "      <td>3935.0</td>\n",
       "      <td>0.65</td>\n",
       "      <td>0.34</td>\n",
       "      <td>0.00</td>\n",
       "      <td>0.36</td>\n",
       "      <td>0.79</td>\n",
       "      <td>0.96</td>\n",
       "      <td>1.00</td>\n",
       "    </tr>\n",
       "    <tr>\n",
       "      <th>liveness</th>\n",
       "      <td>3935.0</td>\n",
       "      <td>0.14</td>\n",
       "      <td>0.10</td>\n",
       "      <td>0.03</td>\n",
       "      <td>0.10</td>\n",
       "      <td>0.11</td>\n",
       "      <td>0.13</td>\n",
       "      <td>0.93</td>\n",
       "    </tr>\n",
       "    <tr>\n",
       "      <th>valence</th>\n",
       "      <td>3935.0</td>\n",
       "      <td>0.35</td>\n",
       "      <td>0.23</td>\n",
       "      <td>0.00</td>\n",
       "      <td>0.16</td>\n",
       "      <td>0.30</td>\n",
       "      <td>0.50</td>\n",
       "      <td>0.98</td>\n",
       "    </tr>\n",
       "    <tr>\n",
       "      <th>tempo</th>\n",
       "      <td>3935.0</td>\n",
       "      <td>111.68</td>\n",
       "      <td>33.61</td>\n",
       "      <td>0.00</td>\n",
       "      <td>82.04</td>\n",
       "      <td>107.55</td>\n",
       "      <td>136.59</td>\n",
       "      <td>240.05</td>\n",
       "    </tr>\n",
       "  </tbody>\n",
       "</table>\n",
       "</div>"
      ],
      "text/plain": [
       "               count    mean    std    min    25%     50%     75%     max\n",
       "danceability  3935.0    0.55   0.19   0.00   0.42    0.59    0.70    0.98\n",
       "energy        3935.0    0.33   0.25   0.00   0.10    0.30    0.48    1.00\n",
       "loudness      3935.0  -15.53   8.45 -43.30 -21.80  -12.93   -9.12   -1.01\n",
       "speechiness   3935.0    0.07   0.07   0.00   0.04    0.04    0.07    0.95\n",
       "acousticness  3935.0    0.65   0.34   0.00   0.36    0.79    0.96    1.00\n",
       "liveness      3935.0    0.14   0.10   0.03   0.10    0.11    0.13    0.93\n",
       "valence       3935.0    0.35   0.23   0.00   0.16    0.30    0.50    0.98\n",
       "tempo         3935.0  111.68  33.61   0.00  82.04  107.55  136.59  240.05"
      ]
     },
     "execution_count": 16,
     "metadata": {},
     "output_type": "execute_result"
    }
   ],
   "source": [
    "round(audio_database.describe().T, 2)"
   ]
  },
  {
   "cell_type": "code",
   "execution_count": 21,
   "metadata": {},
   "outputs": [
    {
     "data": {
      "text/html": [
       "<div>\n",
       "<style scoped>\n",
       "    .dataframe tbody tr th:only-of-type {\n",
       "        vertical-align: middle;\n",
       "    }\n",
       "\n",
       "    .dataframe tbody tr th {\n",
       "        vertical-align: top;\n",
       "    }\n",
       "\n",
       "    .dataframe thead th {\n",
       "        text-align: right;\n",
       "    }\n",
       "</style>\n",
       "<table border=\"1\" class=\"dataframe\">\n",
       "  <thead>\n",
       "    <tr style=\"text-align: right;\">\n",
       "      <th></th>\n",
       "      <th>danceability</th>\n",
       "      <th>energy</th>\n",
       "      <th>key</th>\n",
       "      <th>loudness</th>\n",
       "      <th>mode</th>\n",
       "      <th>speechiness</th>\n",
       "      <th>acousticness</th>\n",
       "      <th>instrumentalness</th>\n",
       "      <th>liveness</th>\n",
       "      <th>valence</th>\n",
       "      <th>tempo</th>\n",
       "      <th>duration_ms</th>\n",
       "      <th>time_signature</th>\n",
       "    </tr>\n",
       "    <tr>\n",
       "      <th>id</th>\n",
       "      <th></th>\n",
       "      <th></th>\n",
       "      <th></th>\n",
       "      <th></th>\n",
       "      <th></th>\n",
       "      <th></th>\n",
       "      <th></th>\n",
       "      <th></th>\n",
       "      <th></th>\n",
       "      <th></th>\n",
       "      <th></th>\n",
       "      <th></th>\n",
       "      <th></th>\n",
       "    </tr>\n",
       "  </thead>\n",
       "  <tbody>\n",
       "    <tr>\n",
       "      <th>4kbj5MwxO1bq9wjT5g9HaA</th>\n",
       "      <td>0.134362</td>\n",
       "      <td>2.165122</td>\n",
       "      <td>-1.172005</td>\n",
       "      <td>1.387864</td>\n",
       "      <td>0.820393</td>\n",
       "      <td>-0.107979</td>\n",
       "      <td>-1.877779</td>\n",
       "      <td>-1.652850</td>\n",
       "      <td>1.147025</td>\n",
       "      <td>1.164524</td>\n",
       "      <td>0.486647</td>\n",
       "      <td>0.325785</td>\n",
       "      <td>0.301204</td>\n",
       "    </tr>\n",
       "    <tr>\n",
       "      <th>0B9x2BRHqj3Qer7biM3pU3</th>\n",
       "      <td>1.069031</td>\n",
       "      <td>1.147740</td>\n",
       "      <td>-1.452530</td>\n",
       "      <td>0.488420</td>\n",
       "      <td>0.820393</td>\n",
       "      <td>-0.137468</td>\n",
       "      <td>-1.077812</td>\n",
       "      <td>-1.645325</td>\n",
       "      <td>-0.440362</td>\n",
       "      <td>2.034510</td>\n",
       "      <td>-0.140992</td>\n",
       "      <td>-0.126654</td>\n",
       "      <td>0.301204</td>\n",
       "    </tr>\n",
       "    <tr>\n",
       "      <th>68y6OIiE1nDdI1MLQdJNh8</th>\n",
       "      <td>0.679586</td>\n",
       "      <td>1.448148</td>\n",
       "      <td>0.230623</td>\n",
       "      <td>1.147705</td>\n",
       "      <td>-1.218928</td>\n",
       "      <td>-0.592426</td>\n",
       "      <td>-1.197519</td>\n",
       "      <td>-1.652850</td>\n",
       "      <td>-0.090665</td>\n",
       "      <td>0.663104</td>\n",
       "      <td>-0.376360</td>\n",
       "      <td>0.541591</td>\n",
       "      <td>0.301204</td>\n",
       "    </tr>\n",
       "    <tr>\n",
       "      <th>5Q0Nhxo0l2bP3pNjpGJwV1</th>\n",
       "      <td>0.518615</td>\n",
       "      <td>1.492208</td>\n",
       "      <td>1.352724</td>\n",
       "      <td>1.285717</td>\n",
       "      <td>-1.218928</td>\n",
       "      <td>-0.387414</td>\n",
       "      <td>-1.894976</td>\n",
       "      <td>-1.652550</td>\n",
       "      <td>-0.507158</td>\n",
       "      <td>0.525964</td>\n",
       "      <td>-0.466044</td>\n",
       "      <td>0.372003</td>\n",
       "      <td>0.301204</td>\n",
       "    </tr>\n",
       "    <tr>\n",
       "      <th>4cluDES4hQEUhmXj6TXkSo</th>\n",
       "      <td>0.902868</td>\n",
       "      <td>1.848692</td>\n",
       "      <td>-0.330428</td>\n",
       "      <td>1.542921</td>\n",
       "      <td>0.820393</td>\n",
       "      <td>0.057715</td>\n",
       "      <td>-1.871969</td>\n",
       "      <td>-1.652850</td>\n",
       "      <td>-0.792023</td>\n",
       "      <td>2.317362</td>\n",
       "      <td>0.395951</td>\n",
       "      <td>0.339819</td>\n",
       "      <td>0.301204</td>\n",
       "    </tr>\n",
       "  </tbody>\n",
       "</table>\n",
       "</div>"
      ],
      "text/plain": [
       "                        danceability    energy       key  loudness      mode  \\\n",
       "id                                                                             \n",
       "4kbj5MwxO1bq9wjT5g9HaA      0.134362  2.165122 -1.172005  1.387864  0.820393   \n",
       "0B9x2BRHqj3Qer7biM3pU3      1.069031  1.147740 -1.452530  0.488420  0.820393   \n",
       "68y6OIiE1nDdI1MLQdJNh8      0.679586  1.448148  0.230623  1.147705 -1.218928   \n",
       "5Q0Nhxo0l2bP3pNjpGJwV1      0.518615  1.492208  1.352724  1.285717 -1.218928   \n",
       "4cluDES4hQEUhmXj6TXkSo      0.902868  1.848692 -0.330428  1.542921  0.820393   \n",
       "\n",
       "                        speechiness  acousticness  instrumentalness  liveness  \\\n",
       "id                                                                              \n",
       "4kbj5MwxO1bq9wjT5g9HaA    -0.107979     -1.877779         -1.652850  1.147025   \n",
       "0B9x2BRHqj3Qer7biM3pU3    -0.137468     -1.077812         -1.645325 -0.440362   \n",
       "68y6OIiE1nDdI1MLQdJNh8    -0.592426     -1.197519         -1.652850 -0.090665   \n",
       "5Q0Nhxo0l2bP3pNjpGJwV1    -0.387414     -1.894976         -1.652550 -0.507158   \n",
       "4cluDES4hQEUhmXj6TXkSo     0.057715     -1.871969         -1.652850 -0.792023   \n",
       "\n",
       "                         valence     tempo  duration_ms  time_signature  \n",
       "id                                                                       \n",
       "4kbj5MwxO1bq9wjT5g9HaA  1.164524  0.486647     0.325785        0.301204  \n",
       "0B9x2BRHqj3Qer7biM3pU3  2.034510 -0.140992    -0.126654        0.301204  \n",
       "68y6OIiE1nDdI1MLQdJNh8  0.663104 -0.376360     0.541591        0.301204  \n",
       "5Q0Nhxo0l2bP3pNjpGJwV1  0.525964 -0.466044     0.372003        0.301204  \n",
       "4cluDES4hQEUhmXj6TXkSo  2.317362  0.395951     0.339819        0.301204  "
      ]
     },
     "execution_count": 21,
     "metadata": {},
     "output_type": "execute_result"
    }
   ],
   "source": [
    "# Scale numerical features\n",
    "from sklearn.preprocessing import StandardScaler\n",
    "X = audio_database.copy()\n",
    "X_prep = StandardScaler().fit_transform(X)\n",
    "X_prep = pd.DataFrame(X_prep, columns=X.columns, index=X.index)\n",
    "pd.DataFrame(X_prep).head()"
   ]
  },
  {
   "cell_type": "code",
   "execution_count": 22,
   "metadata": {},
   "outputs": [
    {
     "data": {
      "image/png": "[encoded data removed]",
      "text/plain": [
       "<Figure size 1080x576 with 6 Axes>"
      ]
     },
     "metadata": {
      "needs_background": "light"
     },
     "output_type": "display_data"
    }
   ],
   "source": [
    "from yellowbrick.cluster import SilhouetteVisualizer\n",
    "from matplotlib import pyplot as plt\n",
    "fig, ax = plt.subplots(3, 2, figsize=(15, 8))\n",
    "for i in range(2, 8):\n",
    "    '''\n",
    "    Create KMeans instance for different number of clusters\n",
    "    '''\n",
    "    km = KMeans(n_clusters=i, init='k-means++', n_init=10, max_iter=100, random_state=42)\n",
    "    q, mod = divmod(i, 2)\n",
    "    '''\n",
    "    Create SilhouetteVisualizer instance with KMeans instance\n",
    "    Fit the visualizer\n",
    "    '''\n",
    "    visualizer = SilhouetteVisualizer(km, colors='yellowbrick', ax=ax[q-1][mod])\n",
    "    visualizer.fit(X)"
   ]
  },
  {
   "cell_type": "code",
   "execution_count": 23,
   "metadata": {},
   "outputs": [
    {
     "data": {
      "image/png": "[encoded data removed]",
      "text/plain": [
       "<Figure size 432x288 with 2 Axes>"
      ]
     },
     "metadata": {},
     "output_type": "display_data"
    },
    {
     "data": {
      "text/plain": [
       "<AxesSubplot:title={'center':'Distortion Score Elbow for KMeans Clustering'}, xlabel='k', ylabel='distortion score'>"
      ]
     },
     "execution_count": 23,
     "metadata": {},
     "output_type": "execute_result"
    }
   ],
   "source": [
    "# Instantiate the clustering model and visualizer\n",
    "from yellowbrick.cluster import KElbowVisualizer\n",
    "visualizer = KElbowVisualizer(km, k=(2, 10))\n",
    "visualizer.fit(X)    \n",
    "# Draw/show/poof the data\n",
    "visualizer.poof()    "
   ]
  },
  {
   "cell_type": "code",
   "execution_count": 24,
   "metadata": {},
   "outputs": [
    {
     "data": {
      "image/png": "[encoded data removed]",
      "text/plain": [
       "<Figure size 432x288 with 1 Axes>"
      ]
     },
     "metadata": {
      "needs_background": "light"
     },
     "output_type": "display_data"
    }
   ],
   "source": [
    "from sklearn.decomposition import PCA\n",
    "\n",
    "# Transform the data into 2D so we can see\n",
    "pca = PCA(2) \n",
    "X_2D = pca.fit_transform(X_prep)\n",
    "X_2D\n",
    "\n",
    "# We'll use k=4 based on the elbow & silhouette scores\n",
    "kmeans = KMeans(n_clusters=4, random_state=42)\n",
    "kmeans.fit(X_2D)\n",
    "\n",
    "# And we'll plot the clusters to have a visual representation of their assignment\n",
    "clusters = kmeans.predict(X_2D)\n",
    "labels = np.unique(clusters)\n",
    "\n",
    "for i in labels:\n",
    "    plt.scatter(X_2D[clusters==i, 0] , X_2D[clusters==i, 1] , label = i)\n",
    "plt.legend()\n",
    "plt.show()"
   ]
  },
  {
   "cell_type": "markdown",
   "metadata": {},
   "source": [
    "Save the song information and audio features in the same dataframe:"
   ]
  },
  {
   "cell_type": "code",
   "execution_count": 45,
   "metadata": {},
   "outputs": [
    {
     "data": {
      "text/plain": [
       "Index(['danceability', 'energy', 'key', 'loudness', 'mode', 'speechiness',\n",
       "       'acousticness', 'instrumentalness', 'liveness', 'valence', 'tempo',\n",
       "       'duration_ms', 'time_signature', 'cluster'],\n",
       "      dtype='object')"
      ]
     },
     "execution_count": 45,
     "metadata": {},
     "output_type": "execute_result"
    }
   ],
   "source": [
    "audio_database.columns"
   ]
  },
  {
   "cell_type": "code",
   "execution_count": 46,
   "metadata": {},
   "outputs": [],
   "source": [
    "database = song_database.join(audio_database)"
   ]
  },
  {
   "cell_type": "markdown",
   "metadata": {},
   "source": [
    "Check that the join occurred correctly:"
   ]
  },
  {
   "cell_type": "code",
   "execution_count": 48,
   "metadata": {},
   "outputs": [
    {
     "data": {
      "text/plain": [
       "(3935, 16)"
      ]
     },
     "execution_count": 48,
     "metadata": {},
     "output_type": "execute_result"
    }
   ],
   "source": [
    "database.shape"
   ]
  },
  {
   "cell_type": "code",
   "execution_count": 47,
   "metadata": {},
   "outputs": [
    {
     "data": {
      "text/plain": [
       "song_name           0\n",
       "artist_name         0\n",
       "danceability        0\n",
       "energy              0\n",
       "key                 0\n",
       "loudness            0\n",
       "mode                0\n",
       "speechiness         0\n",
       "acousticness        0\n",
       "instrumentalness    0\n",
       "liveness            0\n",
       "valence             0\n",
       "tempo               0\n",
       "duration_ms         0\n",
       "time_signature      0\n",
       "cluster             0\n",
       "dtype: int64"
      ]
     },
     "execution_count": 47,
     "metadata": {},
     "output_type": "execute_result"
    }
   ],
   "source": [
    "database.isna().sum()"
   ]
  },
  {
   "cell_type": "code",
   "execution_count": 49,
   "metadata": {},
   "outputs": [],
   "source": [
    "database.to_csv(\"database.csv\")"
   ]
  },
  {
   "cell_type": "markdown",
   "metadata": {},
   "source": [
    "##### 1. Check if the song is in the Billboard Hot 200"
   ]
  },
  {
   "cell_type": "code",
   "execution_count": null,
   "metadata": {},
   "outputs": [],
   "source": [
    "new_song = input(\"Write a song you like:\")\n",
    "new_artist = input(\"Write the artist of that song:\")"
   ]
  },
  {
   "cell_type": "code",
   "execution_count": null,
   "metadata": {},
   "outputs": [
    {
     "name": "stdout",
     "output_type": "stream",
     "text": [
      "This song is not that popular nowadays.\n"
     ]
    }
   ],
   "source": [
    "hot_100 = pd.read_csv(\"billboard_hot_100.csv\")\n",
    "\n",
    "if new_song in hot_100.Song and new_artist in hot_100.Artist:\n",
    "    print(\"This song is hot right now!\")\n",
    "else:\n",
    "    print(\"This song is not that popular nowadays.\")"
   ]
  },
  {
   "cell_type": "markdown",
   "metadata": {},
   "source": [
    "##### 2. Collect the song audio features"
   ]
  },
  {
   "cell_type": "code",
   "execution_count": 25,
   "metadata": {},
   "outputs": [
    {
     "name": "stdout",
     "output_type": "stream",
     "text": [
      "Sorry, we couldn't find this song on Spotify\n"
     ]
    }
   ],
   "source": [
    "# Ask the user for a song until they find something within the database\n",
    "song_found = True\n",
    "\n",
    "while song_found == True:\n",
    "    try:\n",
    "        new_song_id = song_database[(song_database[\"song_name\"] == new_song) & \\\n",
    "        (song_database[\"artist_name\"] == new_artist)].index[0]\n",
    "        song_found = False\n",
    "\n",
    "    except:\n",
    "        print(\"Sorry, we couldn't find this song on Spotify\")\n",
    "        new_song = input(\"Please add another song you like:\")\n",
    "        new_artist = input(\"And add the name of the artist:\")    "
   ]
  },
  {
   "cell_type": "code",
   "execution_count": 26,
   "metadata": {},
   "outputs": [],
   "source": [
    "# Get the song features for the recommendation system\n",
    "new_song_features = sp.audio_features(tracks=new_song_id)[0]\n",
    "new_song_features = pd.DataFrame(new_song_features, index=[new_song_id], \\\n",
    "    columns=new_song_features.keys())\n",
    "new_song_features.drop(\"id\", axis=1, inplace=True)\n",
    "\n",
    "# Remove the unnecessary items\n",
    "new_song_features.drop(to_drop, axis=1, inplace=True)"
   ]
  },
  {
   "cell_type": "markdown",
   "metadata": {},
   "source": [
    "##### 3. Test the clustering model on submitted songs and make a recommendation from the same cluster"
   ]
  },
  {
   "cell_type": "code",
   "execution_count": 31,
   "metadata": {},
   "outputs": [],
   "source": [
    "# Get the cluster number for the items in the audio database\n",
    "kmeans = KMeans(n_clusters=4, random_state=42)\n",
    "kmeans.fit(X_prep)\n",
    "clusters = kmeans.predict(X_prep)"
   ]
  },
  {
   "cell_type": "code",
   "execution_count": 40,
   "metadata": {},
   "outputs": [],
   "source": [
    "# Add the cluster number to the audio_database and save the data\n",
    "audio_database[\"cluster\"] = clusters\n",
    "audio_database.to_csv(\"audio_database.csv\")"
   ]
  },
  {
   "cell_type": "code",
   "execution_count": 41,
   "metadata": {},
   "outputs": [],
   "source": [
    "# Getting nearest point\n",
    "closest, _ = pairwise_distances_argmin_min(new_song_features, audio_database.drop(\"cluster\", axis=1))"
   ]
  },
  {
   "cell_type": "code",
   "execution_count": 42,
   "metadata": {},
   "outputs": [
    {
     "data": {
      "text/plain": [
       "array([3])"
      ]
     },
     "execution_count": 42,
     "metadata": {},
     "output_type": "execute_result"
    }
   ],
   "source": [
    "closest"
   ]
  },
  {
   "cell_type": "markdown",
   "metadata": {},
   "source": [
    "##### 4. Creating the song recommender"
   ]
  },
  {
   "cell_type": "code",
   "execution_count": 24,
   "metadata": {},
   "outputs": [],
   "source": [
    "def input_song():\n",
    "    new_song = input(\"Write a song you like:\")\n",
    "    new_artist = input(\"Write the artist of that song:\")\n",
    "    return new_song, new_artist\n",
    "\n",
    "def check_popularity(hot_100_list):\n",
    "    '''\n",
    "    Checks if a song is in the Hot 100 Billboard list\n",
    "\n",
    "    Arguments\n",
    "    hot_100_list = The name of the .csv file where the scraped Hot 100 list is saved\n",
    "\n",
    "    Returns\n",
    "    is_pop = A Boolean to show if the song is in the Hot 100 Billboard list\n",
    "    '''\n",
    "    current_dir = os.getcwd()\n",
    "    hot_100_list_path = os.path.join(current_dir, hot_100_list)\n",
    "    hot_100 = pd.read_csv(hot_100_list_path)\n",
    "\n",
    "    if new_song in hot_100.Song and new_artist in hot_100.Artist:\n",
    "        print(\"This song is hot right now!\")\n",
    "        is_pop = 1\n",
    "    else:\n",
    "        print(\"This song is not that popular nowadays.\")\n",
    "        is_pop = 0\n",
    "    return is_pop\n",
    "\n",
    "def get_recommendation(new_song, new_artist, song_database):\n",
    "    # Check the song is in the database, if not, input another song\n",
    "    song_found = True\n",
    "    while song_found == True:\n",
    "        try:\n",
    "            new_song_id = song_database[(song_database[\"song_name\"] == new_song) & \\\n",
    "            (song_database[\"artist_name\"] == new_artist)].index[0]\n",
    "            new_song_features = song_database.loc[new_song_id, :]\n",
    "            new_song_features.drop([\"song_name\", \"artist_name\"], inplace=True)\n",
    "            song_found = False\n",
    "        except:\n",
    "            print(\"Sorry, we couldn't find this song on Spotify\")\n",
    "            new_song, new_artist = input_song()\n",
    "    new_song_features = new_song_features.to_frame().T\n",
    "    recommended_cluster, _ = pairwise_distances_argmin_min(new_song_features.drop(\"cluster\", axis=1), \\\n",
    "        song_database.drop([\"song_name\", \"artist_name\", \"cluster\"], axis=1))\n",
    "    full_cluster = song_database[song_database.cluster == recommended_cluster[0]]\n",
    "    recommendation_id = random.choice(full_cluster.index)\n",
    "    return recommendation_id  "
   ]
  },
  {
   "cell_type": "code",
   "execution_count": 23,
   "metadata": {},
   "outputs": [
    {
     "data": {
      "text/plain": [
       "3"
      ]
     },
     "execution_count": 23,
     "metadata": {},
     "output_type": "execute_result"
    }
   ],
   "source": [
    "recommended_cluster[0]"
   ]
  },
  {
   "cell_type": "code",
   "execution_count": 29,
   "metadata": {},
   "outputs": [],
   "source": [
    "def song_recommender(database_name):\n",
    "    # Read database into dataframe\n",
    "    current_dir = os.getcwd()\n",
    "    database_path = os.path.join(current_dir, database_name)\n",
    "    song_database = pd.read_csv(database_path, index_col=\"song_id\")\n",
    "\n",
    "    # Run recommendation engine\n",
    "    recommend = True\n",
    "    satisfied = True\n",
    "    while recommend:\n",
    "        new_song, new_artist = input_song()\n",
    "        while satisfied:\n",
    "            recommendation_id = get_recommendation(new_song, new_artist, song_database)\n",
    "            recommended_song = song_database.loc[recommendation_id, \"song_name\"]\n",
    "            recommended_artist = song_database.loc[recommendation_id, \"artist_name\"]\n",
    "            print(\"You could try out {} from {}!\".format(recommended_song, recommended_artist))\n",
    "            satisfied = input(\"Are you satisfied with your recommendation? (Y/N):\")\n",
    "            if satisfied.lower() == \"y\":\n",
    "                satisfied = False\n",
    "        recommend = input(\"Would you like another recommendation? (Y/N):\")\n",
    "        if recommend.lower() == \"n\":\n",
    "            recommend = False\n"
   ]
  },
  {
   "cell_type": "code",
   "execution_count": 18,
   "metadata": {},
   "outputs": [
    {
     "name": "stderr",
     "output_type": "stream",
     "text": [
      "/home/sabina/.local/lib/python3.8/site-packages/pandas/core/generic.py:4153: SettingWithCopyWarning: \n",
      "A value is trying to be set on a copy of a slice from a DataFrame\n",
      "\n",
      "See the caveats in the documentation: https://pandas.pydata.org/pandas-docs/stable/user_guide/indexing.html#returning-a-view-versus-a-copy\n",
      "  self._update_inplace(obj)\n"
     ]
    }
   ],
   "source": [
    "song_database = pd.read_csv(\"database.csv\", index_col=\"song_id\")\n",
    "new_song = \"Party In The U.S.A.\"\n",
    "new_artist = \"Miley Cyrus\"\n",
    "new_song_id = song_database[(song_database[\"song_name\"] == new_song) & \\\n",
    "(song_database[\"artist_name\"] == new_artist)].index[0]\n",
    "new_song_features = song_database.loc[new_song_id, :]\n",
    "new_song_features.drop([\"song_name\", \"artist_name\"], inplace=True)\n",
    "new_song_features = new_song_features.to_frame().T\n",
    "recommended_cluster, _ = pairwise_distances_argmin_min(new_song_features.drop(\"cluster\", axis=1), \\\n",
    "        song_database.drop([\"song_name\", \"artist_name\", \"cluster\"], axis=1))"
   ]
  },
  {
   "cell_type": "code",
   "execution_count": 30,
   "metadata": {},
   "outputs": [
    {
     "name": "stderr",
     "output_type": "stream",
     "text": [
      "/home/sabina/.local/lib/python3.8/site-packages/pandas/core/generic.py:4153: SettingWithCopyWarning: \n",
      "A value is trying to be set on a copy of a slice from a DataFrame\n",
      "\n",
      "See the caveats in the documentation: https://pandas.pydata.org/pandas-docs/stable/user_guide/indexing.html#returning-a-view-versus-a-copy\n",
      "  self._update_inplace(obj)\n"
     ]
    },
    {
     "name": "stdout",
     "output_type": "stream",
     "text": [
      "You could try out Saudade (When We Are Born) from Ólafur Arnalds!\n"
     ]
    },
    {
     "name": "stderr",
     "output_type": "stream",
     "text": [
      "/home/sabina/.local/lib/python3.8/site-packages/pandas/core/generic.py:4153: SettingWithCopyWarning: \n",
      "A value is trying to be set on a copy of a slice from a DataFrame\n",
      "\n",
      "See the caveats in the documentation: https://pandas.pydata.org/pandas-docs/stable/user_guide/indexing.html#returning-a-view-versus-a-copy\n",
      "  self._update_inplace(obj)\n"
     ]
    },
    {
     "name": "stdout",
     "output_type": "stream",
     "text": [
      "You could try out Silhouette from Robert Gafforelli!\n"
     ]
    },
    {
     "name": "stderr",
     "output_type": "stream",
     "text": [
      "/home/sabina/.local/lib/python3.8/site-packages/pandas/core/generic.py:4153: SettingWithCopyWarning: \n",
      "A value is trying to be set on a copy of a slice from a DataFrame\n",
      "\n",
      "See the caveats in the documentation: https://pandas.pydata.org/pandas-docs/stable/user_guide/indexing.html#returning-a-view-versus-a-copy\n",
      "  self._update_inplace(obj)\n"
     ]
    },
    {
     "name": "stdout",
     "output_type": "stream",
     "text": [
      "You could try out line up from Golden Horses!\n"
     ]
    }
   ],
   "source": [
    "song_recommender(\"database.csv\")"
   ]
  }
 ],
 "metadata": {
  "kernelspec": {
   "display_name": "Python 3.8.10 64-bit",
   "language": "python",
   "name": "python3"
  },
  "language_info": {
   "codemirror_mode": {
    "name": "ipython",
    "version": 3
   },
   "file_extension": ".py",
   "mimetype": "text/x-python",
   "name": "python",
   "nbconvert_exporter": "python",
   "pygments_lexer": "ipython3",
   "version": "3.8.10"
  },
  "orig_nbformat": 4,
  "vscode": {
   "interpreter": {
    "hash": "916dbcbb3f70747c44a77c7bcd40155683ae19c65e1c03b4aa3499c5328201f1"
   }
  }
 },
 "nbformat": 4,
 "nbformat_minor": 2
}
