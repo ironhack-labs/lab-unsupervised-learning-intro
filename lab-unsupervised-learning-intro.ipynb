{
 "cells": [
  {
   "cell_type": "markdown",
   "metadata": {},
   "source": [
    "# Lab | Unsupervised learning intro\n",
    "\n",
    "#### Instructions \n",
    "\n",
    "\n",
    "It's the moment to perform clustering on the songs you collected. Remember that the ultimate goal of this little project is to improve the recommendations of artists. Clustering the songs will allow the recommendation system to limit the scope of the recommendations to only songs that belong to the same cluster - songs with similar audio features.\n",
    "\n",
    "The experiments you did with the `Spotify` API and the Billboard web scraping will allow you to create a pipeline such that when the user enters a song, you:\n",
    "\n",
    "1. Check whether or not the song is in the Billboard Hot 200.\n",
    "2. Collect the audio features from the `Spotify` API.\n",
    "\n",
    "After that, you want to send the `Spotify` audio features of the submitted song to the clustering model, which should return a cluster number."
   ]
  },
  {
   "cell_type": "markdown",
   "metadata": {},
   "source": [
    "##### 0. Train a clustering model on the song database"
   ]
  },
  {
   "cell_type": "code",
   "execution_count": 46,
   "metadata": {},
   "outputs": [],
   "source": [
    "# Import relevant libraries\n",
    "import numpy as np \n",
    "import pandas as pd\n",
    "import spotipy\n",
    "from spotipy.oauth2 import SpotifyClientCredentials\n",
    "import getpass"
   ]
  },
  {
   "cell_type": "code",
   "execution_count": 47,
   "metadata": {},
   "outputs": [],
   "source": [
    "# Create connection to Spotify API\n",
    "client_id = \"31bb38d4d2c54b0e9b994db2a71040d5\"\n",
    "client_secret = getpass.getpass('Write client secret:')\n",
    "\n",
    "sp = spotipy.Spotify(auth_manager=SpotifyClientCredentials(client_id=client_id,\n",
    "                                                           client_secret=client_secret))"
   ]
  },
  {
   "cell_type": "code",
   "execution_count": 50,
   "metadata": {},
   "outputs": [],
   "source": [
    "# Import the song database\n",
    "song_database = pd.read_csv(\"song_database.csv\", index_col=\"song_id\")"
   ]
  },
  {
   "cell_type": "code",
   "execution_count": 58,
   "metadata": {},
   "outputs": [],
   "source": [
    "# Save audio features for the songs in a dataframe\n",
    "audio_database = pd.DataFrame(columns=['danceability', 'energy', 'key', \\\n",
    "    'loudness', 'mode', 'speechiness', 'acousticness', 'instrumentalness', \\\n",
    "    'liveness', 'valence', 'tempo', 'type', 'id', 'uri', 'track_href', \\\n",
    "    'analysis_url', 'duration_ms', 'time_signature'])\n",
    "\n",
    "for song_id in song_database.index:\n",
    "    audio_features = sp.audio_features(tracks=song_id)[0]\n",
    "    audio_database = audio_database.append(audio_features, ignore_index=True)\n",
    "\n",
    "# Set the database index to the song id\n",
    "audio_database.set_index(\"id\", drop=True, inplace=True)\n",
    "\n",
    "# Remove the columns unnecessary for the training\n",
    "to_drop = [\"uri\", \"track_href\", \"analysis_url\"]\n",
    "audio_database.drop(to_drop, inplace=True)"
   ]
  },
  {
   "cell_type": "code",
   "execution_count": null,
   "metadata": {},
   "outputs": [],
   "source": []
  },
  {
   "cell_type": "markdown",
   "metadata": {},
   "source": [
    "##### 1. Check if the song is in the Billboard Hot 200"
   ]
  },
  {
   "cell_type": "code",
   "execution_count": 24,
   "metadata": {},
   "outputs": [],
   "source": [
    "new_song = input(\"Write a song you like:\")\n",
    "new_artist = input(\"Write the artist of that song:\")"
   ]
  },
  {
   "cell_type": "code",
   "execution_count": 4,
   "metadata": {},
   "outputs": [
    {
     "name": "stdout",
     "output_type": "stream",
     "text": [
      "This song is not that popular nowadays.\n"
     ]
    }
   ],
   "source": [
    "hot_100 = pd.read_csv(\"billboard_hot_100.csv\")\n",
    "\n",
    "if new_song in hot_100.Song and new_artist in hot_100.Artist:\n",
    "    print(\"This song is hot right now!\")\n",
    "else:\n",
    "    print(\"This song is not that popular nowadays.\")"
   ]
  },
  {
   "cell_type": "markdown",
   "metadata": {},
   "source": [
    "##### 2. Collect the song audio features"
   ]
  },
  {
   "cell_type": "code",
   "execution_count": 41,
   "metadata": {},
   "outputs": [],
   "source": [
    "# Ask the user for a song until they find something within the database\n",
    "song_found = True\n",
    "\n",
    "while song_found == True:\n",
    "    try:\n",
    "        new_song_id = song_database[(song_database[\"song_name\"] == new_song) & \\\n",
    "        (song_database[\"artist_name\"] == new_artist)].index[0]\n",
    "        song_found = False\n",
    "\n",
    "    except:\n",
    "        print(\"Sorry, we couldn't find this song on Spotify\")\n",
    "        new_song = input(\"Please add another song you like:\")\n",
    "        new_artist = input(\"And add the name of the artist:\")    "
   ]
  },
  {
   "cell_type": "code",
   "execution_count": 56,
   "metadata": {},
   "outputs": [
    {
     "data": {
      "text/plain": [
       "'5Q0Nhxo0l2bP3pNjpGJwV1'"
      ]
     },
     "execution_count": 56,
     "metadata": {},
     "output_type": "execute_result"
    }
   ],
   "source": [
    "# Get the song features for the recommendation system\n",
    "sp.audio_features(tracks=new_song_id)[0][\"id\"]"
   ]
  },
  {
   "cell_type": "code",
   "execution_count": 57,
   "metadata": {},
   "outputs": [
    {
     "data": {
      "text/plain": [
       "'5Q0Nhxo0l2bP3pNjpGJwV1'"
      ]
     },
     "execution_count": 57,
     "metadata": {},
     "output_type": "execute_result"
    }
   ],
   "source": [
    "new_song_id"
   ]
  },
  {
   "cell_type": "markdown",
   "metadata": {},
   "source": [
    "##### 3. Test the clustering model on submitted songs and make a recommendation from the same cluster"
   ]
  },
  {
   "cell_type": "code",
   "execution_count": null,
   "metadata": {},
   "outputs": [],
   "source": []
  }
 ],
 "metadata": {
  "kernelspec": {
   "display_name": "Python 3.8.10 64-bit",
   "language": "python",
   "name": "python3"
  },
  "language_info": {
   "codemirror_mode": {
    "name": "ipython",
    "version": 3
   },
   "file_extension": ".py",
   "mimetype": "text/x-python",
   "name": "python",
   "nbconvert_exporter": "python",
   "pygments_lexer": "ipython3",
   "version": "3.8.10"
  },
  "orig_nbformat": 4,
  "vscode": {
   "interpreter": {
    "hash": "916dbcbb3f70747c44a77c7bcd40155683ae19c65e1c03b4aa3499c5328201f1"
   }
  }
 },
 "nbformat": 4,
 "nbformat_minor": 2
}
