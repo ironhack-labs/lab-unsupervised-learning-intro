{
 "cells": [
  {
   "cell_type": "code",
   "execution_count": 15,
   "id": "eecf54cd",
   "metadata": {},
   "outputs": [],
   "source": [
    "import spotipy\n",
    "from spotipy.oauth2 import SpotifyClientCredentials\n",
    "import pandas as pd\n",
    "import numpy as np\n",
    "\n",
    "sp = spotipy.Spotify(auth_manager=SpotifyClientCredentials(\n",
    "    client_id=\"c34a366b525d4ab59a6017a882071628\",\n",
    "    client_secret=\"cac3606c2df8478d8cd3c61a3e1698b6\"))"
   ]
  },
  {
   "cell_type": "code",
   "execution_count": null,
   "id": "d7f15483",
   "metadata": {},
   "outputs": [],
   "source": [
    "def get_songs_from_playlists(playlist_ids, num_songs):\n",
    "    tracks = []\n",
    "    for playlist_id in playlist_ids:\n",
    "        playlist = sp.user_playlist_tracks(\"spotify\", playlist_id)\n",
    "        tracks.extend(playlist['items'])\n",
    "        while sp.next(playlist):\n",
    "            playlist = sp.next(playlist)\n",
    "            tracks.extend(playlist['items'])\n",
    "    \n",
    "    songs = []\n",
    "    for track in tracks:\n",
    "        artist_id = track['track']['artists'][0]['id']\n",
    "        artist_name = track['track']['artists'][0]['name']\n",
    "        results = sp.artist_top_tracks(artist_id)\n",
    "        for track in results['tracks'][:num_songs]:\n",
    "            song_id = track['id']\n",
    "            song_name = track['name']\n",
    "            songs.append((song_id, song_name, artist_name))\n",
    "    \n",
    "    playlist_df = pd.DataFrame(songs, columns=['Song ID', 'Song Name', 'Artist Name'])\n",
    "    return playlist_df\n",
    "\n",
    "playlist_ids = [\"4R8MaXWFRHH6bREubcphRg\", \"37i9dQZF1DX4WYpdgoIcn6\", \"7H3jsjFAOc1h4Ivs4PvfOH\"]\n",
    "num_songs = 30\n",
    "playlist = get_songs_from_playlists(playlist_ids, num_songs)\n",
    "playlist.to_csv('playlist_2.csv', index=False)\n"
   ]
  },
  {
   "cell_type": "code",
   "execution_count": null,
   "id": "223312b5",
   "metadata": {},
   "outputs": [],
   "source": [
    "playlist = pd.read_csv('playlist_2.csv')\n",
    "playlist"
   ]
  },
  {
   "cell_type": "code",
   "execution_count": null,
   "id": "ebe9cbbd",
   "metadata": {},
   "outputs": [],
   "source": [
    "import time\n",
    "\n",
    "audio_features_list = []\n",
    "\n",
    "for song_id in playlist['Song ID']:\n",
    "    audio_features = sp.audio_features(song_id)\n",
    "    audio_features_list.append(audio_features)\n",
    "    time.sleep(1)  "
   ]
  },
  {
   "cell_type": "code",
   "execution_count": 8,
   "id": "de9ab17d",
   "metadata": {},
   "outputs": [
    {
     "data": {
      "text/plain": [
       "[]"
      ]
     },
     "execution_count": 8,
     "metadata": {},
     "output_type": "execute_result"
    }
   ],
   "source": [
    "playlist_df = pd.json_normalize(audio_features_list)"
   ]
  },
  {
   "cell_type": "code",
   "execution_count": null,
   "id": "44ab4f1b",
   "metadata": {},
   "outputs": [],
   "source": [
    "data_frames = []\n",
    "\n",
    "for item in audio_features_list:\n",
    "    df = pd.DataFrame(item)  \n",
    "    data_frames.append(df) \n",
    "    \n",
    "final_df = pd.concat(data_frames, ignore_index=True)"
   ]
  },
  {
   "cell_type": "code",
   "execution_count": null,
   "id": "86b900d9",
   "metadata": {},
   "outputs": [],
   "source": [
    "final_df.to_csv('playlist_audio.csv')"
   ]
  },
  {
   "cell_type": "code",
   "execution_count": null,
   "id": "dbee550b",
   "metadata": {},
   "outputs": [],
   "source": [
    "playlist_num = final_df.select_dtypes(include='number')"
   ]
  },
  {
   "cell_type": "code",
   "execution_count": null,
   "id": "0acc5336",
   "metadata": {},
   "outputs": [],
   "source": [
    "X_prep = StandardScaler().fit_transform(X)\n",
    "pd.DataFrame(X_prep).head()"
   ]
  },
  {
   "cell_type": "code",
   "execution_count": null,
   "id": "bd4d3dad",
   "metadata": {},
   "outputs": [],
   "source": [
    "K = range(2,20)\n",
    "inertia =[]\n",
    "\n",
    "for k in K:\n",
    "    kmeans = KMeans(n_clusters=k)\n",
    "    kmeans.fit(X_prep)\n",
    "    inertia.append(kmeans.inertia_)"
   ]
  },
  {
   "cell_type": "code",
   "execution_count": null,
   "id": "fa1b01de",
   "metadata": {},
   "outputs": [],
   "source": [
    "kmeans= KMeans(n_clusters=5,random_state=1234)  \n",
    "kmeans.fit(X_prep)\n",
    "clusters = kmeans.predict(X_prep)\n",
    "pd.Series(clusters).value_counts().sort_index()"
   ]
  },
  {
   "cell_type": "code",
   "execution_count": null,
   "id": "051f9291",
   "metadata": {},
   "outputs": [],
   "source": [
    "from sklearn.metrics import silhouette_score\n",
    "K = range(2,20)\n",
    "silhouette = []\n",
    "\n",
    "for k in K:\n",
    "    kmeans = KMeans(n_clusters=k, random_state=1234)\n",
    "    kmeans.fit(X_prep)\n",
    "    silhouette.append(silhouette_score(X_prep,kmeans.predict(X_prep)))\n",
    "    \n",
    "    \n",
    "plt.figure(figsize=(15,5))\n",
    "plt.plot(K,silhouette)\n",
    "plt.show()"
   ]
  },
  {
   "cell_type": "code",
   "execution_count": null,
   "id": "b0610dec",
   "metadata": {},
   "outputs": [],
   "source": [
    "kmeans= KMeans(n_clusters=3,random_state=1234)  \n",
    "kmeans.fit(X_prep)\n",
    "clusters = kmeans.predict(X_prep)\n",
    "pd.Series(clusters).value_counts().sort_index()"
   ]
  },
  {
   "cell_type": "code",
   "execution_count": null,
   "id": "f36c2177",
   "metadata": {},
   "outputs": [],
   "source": [
    "import pickle\n",
    "from sklearn.preprocessing import StandardScaler\n",
    "\n",
    "# Replace the StandardScaler by the scaler of your choice\n",
    "scaler = StandardScaler()\n",
    "scaler.fit(X)\n",
    "\n",
    "\n",
    "scaler_filename = 'scaler_sd.pkl'\n",
    "pickle.dump(scaler, open(scaler_filename, 'wb'))\n",
    "\n",
    "\n",
    "X_prep = scaler.transform(X)\n",
    "\n",
    "model = KMeans(n_clusters=5,random_state=1234)\n",
    "#This will take some time, especially if you have lots of columns\n",
    "model.fit(X_prep)\n",
    "\n",
    "model_filename = 'KMeans.plk'\n",
    "\n",
    "pickle.dump(model, open(model_filename, 'wb'))"
   ]
  },
  {
   "cell_type": "code",
   "execution_count": null,
   "id": "e02a64e6",
   "metadata": {},
   "outputs": [],
   "source": [
    "kmeans= KMeans(n_clusters=5,random_state=1234)  \n",
    "kmeans.fit(X_prep)\n",
    "clusters = kmeans.predict(X_prep)\n",
    "pd.Series(clusters).value_counts().sort_index()"
   ]
  },
  {
   "cell_type": "code",
   "execution_count": null,
   "id": "026d5031",
   "metadata": {},
   "outputs": [],
   "source": [
    "X_df= X\n",
    "X_df['cluster'] = clusters\n",
    "X_df"
   ]
  },
  {
   "cell_type": "code",
   "execution_count": null,
   "id": "6ea1d604",
   "metadata": {},
   "outputs": [],
   "source": [
    "X_df.to_csv('numerical.csv')"
   ]
  },
  {
   "cell_type": "code",
   "execution_count": null,
   "id": "a7d7e7d0",
   "metadata": {},
   "outputs": [],
   "source": [
    "playlist_clean = pd.read_csv('playlist_audio.csv',index_col=0)"
   ]
  },
  {
   "cell_type": "code",
   "execution_count": null,
   "id": "ee801197",
   "metadata": {},
   "outputs": [],
   "source": [
    "playlist_clean = playlist_clean.drop(playlist_clean.columns[-1], axis=1)"
   ]
  },
  {
   "cell_type": "code",
   "execution_count": null,
   "id": "6345f1f3",
   "metadata": {},
   "outputs": [],
   "source": [
    "playlist_clean = pd.concat([data, playlist_clean], axis=1)"
   ]
  },
  {
   "cell_type": "code",
   "execution_count": null,
   "id": "e4b793fc",
   "metadata": {},
   "outputs": [],
   "source": [
    "playlist_clean = playlist_clean.dropna()"
   ]
  },
  {
   "cell_type": "code",
   "execution_count": null,
   "id": "17a014ba",
   "metadata": {},
   "outputs": [],
   "source": [
    "playlist_clean ['cluster'] = clusters"
   ]
  },
  {
   "cell_type": "code",
   "execution_count": null,
   "id": "87460702",
   "metadata": {},
   "outputs": [],
   "source": [
    " playlist_clean_2 = pd.concat([X_df, playlist_clean['Song Name']], axis=1)"
   ]
  },
  {
   "cell_type": "code",
   "execution_count": null,
   "id": "5d38a4dd",
   "metadata": {},
   "outputs": [],
   "source": [
    "playlist_clean_2.to_csv('final_clean_df.csv')"
   ]
  },
  {
   "cell_type": "code",
   "execution_count": null,
   "id": "b333b7c8",
   "metadata": {},
   "outputs": [],
   "source": [
    "playlist_df = pd.read_csv('final_clean_df.csv',index_col=0)"
   ]
  },
  {
   "cell_type": "code",
   "execution_count": null,
   "id": "93842a66",
   "metadata": {},
   "outputs": [],
   "source": [
    "top100_df = pd.read_csv('Top_100_Billboard.csv',index_col=0)"
   ]
  },
  {
   "cell_type": "code",
   "execution_count": null,
   "id": "a856627b",
   "metadata": {},
   "outputs": [],
   "source": [
    "def check_top100(top100_df, model_file, scaler_file, playlist_df):\n",
    "    song = input(\"Write a Song: \") # input song\n",
    "    \n",
    "    id_list = []   # list to store input song id\n",
    "    audio_features_list = [] # list to store input song audio feature\n",
    "    data_frames = [] # list to store the dataframes from the audio features list\n",
    "\n",
    "    if song in top100_df['Title'].values:\n",
    "        \n",
    "        print(\"This song is present on top 100\")  # foor loop to know if the input song is in the top 100\n",
    "    else:\n",
    "        client_id = 'ea97f40064524f9d812dfdc18ea50b86'\n",
    "        client_secret = '3de672dadbed45b6a26b3d0db682fc1e'\n",
    "        client_credentials_manager = SpotifyClientCredentials(client_id=client_id, client_secret=client_secret)\n",
    "        sp = spotipy.Spotify(client_credentials_manager=client_credentials_manager)\n",
    "\n",
    "        results = sp.search(q=song, limit=1, type='track')\n",
    "        if len(results['tracks']['items']) > 0:\n",
    "            song_id = results['tracks']['items'][0]['id']   # get the track ID\n",
    "            id_list.append(song_id)   # add the track id to the list id_list\n",
    "    for song_id in id_list:  # for loop to take the audio feature from the track id in the id_list\n",
    "        audio_features = sp.audio_features(song_id)\n",
    "        audio_features_list.append(audio_features)  # add the audio features to the list audio_features_list\n",
    "        \n",
    "    for item in audio_features_list: # for loop to take the audio feature from the audio_features list and transform to a dataframe\n",
    "        df = pd.DataFrame(item)\n",
    "        data_frames.append(df) # store the dataframes in the data_frames list\n",
    "        \n",
    "    final_df = pd.concat(data_frames, ignore_index=True) # concat all data frames in the data_frames list make only one data frame with all audio features\n",
    "    playlist_num = final_df.select_dtypes(include='number') # take only the numeric data\n",
    "    \n",
    "    model_file = \"KMeans.plk\"\n",
    "    scaler_file = \"scaler_sd.pkl\"\n",
    "    with open(model_file, 'rb') as file:  #load the model from the pickle file\n",
    "        model = pickle.load(file)\n",
    "    with open(scaler_file, 'rb') as file: #load the scaler from the pickle file\n",
    "        scaler = pickle.load(file)\n",
    "        \n",
    "        \n",
    " \n",
    "        \n",
    "    playlist_num_scaled = scaler.transform(playlist_num) # Apply the model and scaler to the numeric dataframe\n",
    "    input_cluster = model.predict(playlist_num_scaled) # take the cluster from the input song\n",
    "    \n",
    "    \n",
    "    matching_songs = []\n",
    "    for index, cluster in enumerate(playlist_df['cluster']):  # for loop to compare the cluster from the input song with the cluster column from the playlist\n",
    "        if cluster == input_cluster[0]:\n",
    "            matching_songs.append(playlist_df.loc[index, 'Song Name']) # when the for loop find the matching cluster append the matching song to the list matching_songs\n",
    "            \n",
    "    recommended_song = random.choice(matching_songs) if matching_songs else None # find a a random song from the list and sugest a song for the same cluster to the user \n",
    "    \n",
    "    \n",
    "    return recommended_song\n",
    "\n",
    "  \n",
    "            \n",
    "\n",
    "   "
   ]
  },
  {
   "cell_type": "code",
   "execution_count": null,
   "id": "98546fb2",
   "metadata": {},
   "outputs": [],
   "source": [
    "recommended_song = check_top100(top100_df, \"KMeans.pkl\", \"scaler.pkl\", playlist_df)\n",
    "print(\"The song is not present in the top 100, we recommend this song:\", recommended_song)"
   ]
  },
  {
   "cell_type": "code",
   "execution_count": null,
   "id": "16181623",
   "metadata": {},
   "outputs": [],
   "source": []
  }
 ],
 "metadata": {
  "kernelspec": {
   "display_name": "Python 3 (ipykernel)",
   "language": "python",
   "name": "python3"
  },
  "language_info": {
   "codemirror_mode": {
    "name": "ipython",
    "version": 3
   },
   "file_extension": ".py",
   "mimetype": "text/x-python",
   "name": "python",
   "nbconvert_exporter": "python",
   "pygments_lexer": "ipython3",
   "version": "3.9.13"
  }
 },
 "nbformat": 4,
 "nbformat_minor": 5
}
